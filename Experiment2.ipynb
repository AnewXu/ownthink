{
  "nbformat": 4,
  "nbformat_minor": 0,
  "metadata": {
    "colab": {
      "provenance": [],
      "authorship_tag": "ABX9TyOFVq2jx67PAGZLPSu6FYuv",
      "include_colab_link": true
    },
    "kernelspec": {
      "name": "python3",
      "display_name": "Python 3"
    },
    "language_info": {
      "name": "python"
    },
    "gpuClass": "standard"
  },
  "cells": [
    {
      "cell_type": "markdown",
      "metadata": {
        "id": "view-in-github",
        "colab_type": "text"
      },
      "source": [
        "<a href=\"https://colab.research.google.com/github/AnewXu/ownthink/blob/GoogleColab/Experiment2.ipynb\" target=\"_parent\"><img src=\"https://colab.research.google.com/assets/colab-badge.svg\" alt=\"Open In Colab\"/></a>"
      ]
    },
    {
      "cell_type": "markdown",
      "source": [
        "连接GoogleDrive"
      ],
      "metadata": {
        "id": "uIbC8AYdkw4-"
      }
    },
    {
      "cell_type": "code",
      "source": [
        "from google.colab import drive\n",
        "drive.mount('/content/gdrive')\n"
      ],
      "metadata": {
        "colab": {
          "base_uri": "https://localhost:8080/"
        },
        "id": "DIRvsgLnk2CU",
        "outputId": "fe12ad7b-1248-43e3-e421-87bcf34e8490"
      },
      "execution_count": null,
      "outputs": [
        {
          "output_type": "stream",
          "name": "stdout",
          "text": [
            "Mounted at /content/gdrive\n"
          ]
        }
      ]
    },
    {
      "cell_type": "markdown",
      "source": [
        "运行divide.py文件/content/gdrive/MyDrive/ColabNotebooks/Experiment2/"
      ],
      "metadata": {
        "id": "vzpC7j1JlIg0"
      }
    },
    {
      "cell_type": "code",
      "source": [
        "!python /content/gdrive/MyDrive/ColabNotebooks/Experiment2/src/divide.py "
      ],
      "metadata": {
        "colab": {
          "base_uri": "https://localhost:8080/"
        },
        "id": "XwdwJYlWlLzn",
        "outputId": "2ff78a0b-215d-4c0a-832d-a0211c31e650"
      },
      "execution_count": 4,
      "outputs": [
        {
          "output_type": "stream",
          "name": "stdout",
          "text": [
            "开始第1次写入\n",
            "开始第2次写入\n",
            "开始第3次写入\n",
            "开始第4次写入\n",
            "开始第5次写入\n",
            "开始第6次写入\n",
            "开始第7次写入\n",
            "开始第8次写入\n",
            "开始第9次写入\n",
            "开始第10次写入\n",
            "开始第11次写入\n",
            "开始第12次写入\n",
            "开始第13次写入\n",
            "开始第14次写入\n",
            "开始第15次写入\n",
            "开始第16次写入\n",
            "开始第17次写入\n",
            "开始第18次写入\n",
            "开始第19次写入\n",
            "开始第20次写入\n",
            "开始第21次写入\n",
            "开始第22次写入\n",
            "开始第23次写入\n",
            "开始第24次写入\n",
            "开始第25次写入\n",
            "开始第26次写入\n",
            "开始第27次写入\n",
            "开始第28次写入\n",
            "开始第29次写入\n",
            "开始第30次写入\n",
            "开始第31次写入\n",
            "开始第32次写入\n",
            "开始第33次写入\n",
            "开始第34次写入\n",
            "开始第35次写入\n",
            "开始第36次写入\n",
            "开始第37次写入\n",
            "开始第38次写入\n",
            "开始第39次写入\n",
            "开始第40次写入\n",
            "开始第41次写入\n",
            "开始第42次写入\n",
            "开始第43次写入\n",
            "开始第44次写入\n",
            "开始第45次写入\n",
            "开始第46次写入\n",
            "开始第47次写入\n",
            "开始第48次写入\n",
            "开始第49次写入\n",
            "开始第50次写入\n",
            "开始第51次写入\n",
            "开始第52次写入\n",
            "开始第53次写入\n",
            "开始第54次写入\n",
            "开始第55次写入\n",
            "开始第56次写入\n",
            "开始第57次写入\n",
            "开始第58次写入\n",
            "开始第59次写入\n",
            "开始第60次写入\n",
            "开始第61次写入\n",
            "开始第62次写入\n",
            "开始第63次写入\n",
            "开始第64次写入\n",
            "开始第65次写入\n",
            "开始第66次写入\n",
            "开始第67次写入\n",
            "开始第68次写入\n",
            "开始第69次写入\n",
            "开始第70次写入\n",
            "开始第71次写入\n",
            "开始第72次写入\n",
            "开始第73次写入\n",
            "开始第74次写入\n",
            "开始第75次写入\n",
            "开始第76次写入\n",
            "开始第77次写入\n",
            "开始第78次写入\n",
            "开始第79次写入\n",
            "开始第80次写入\n",
            "开始第81次写入\n",
            "开始第82次写入\n",
            "开始第83次写入\n",
            "开始第84次写入\n",
            "开始第85次写入\n",
            "开始第86次写入\n",
            "开始第87次写入\n",
            "开始第88次写入\n",
            "开始第89次写入\n",
            "开始第90次写入\n",
            "开始第91次写入\n",
            "开始第92次写入\n",
            "开始第93次写入\n",
            "开始第94次写入\n",
            "开始第95次写入\n",
            "开始第96次写入\n",
            "开始第97次写入\n",
            "开始第98次写入\n",
            "开始第99次写入\n",
            "开始第100次写入\n",
            "开始第101次写入\n",
            "开始第102次写入\n",
            "开始第103次写入\n",
            "开始第104次写入\n",
            "开始第105次写入\n",
            "开始第106次写入\n",
            "开始第107次写入\n",
            "开始第108次写入\n",
            "开始第109次写入\n",
            "开始第110次写入\n",
            "开始第111次写入\n",
            "开始第112次写入\n",
            "开始第113次写入\n",
            "开始第114次写入\n",
            "开始第115次写入\n",
            "开始第116次写入\n",
            "开始第117次写入\n",
            "开始第118次写入\n",
            "开始第119次写入\n",
            "开始第120次写入\n",
            "开始第121次写入\n",
            "开始第122次写入\n",
            "开始第123次写入\n",
            "开始第124次写入\n",
            "开始第125次写入\n",
            "开始第126次写入\n",
            "开始第127次写入\n",
            "开始第128次写入\n",
            "开始第129次写入\n",
            "开始第130次写入\n",
            "开始第131次写入\n",
            "开始第132次写入\n",
            "开始第133次写入\n",
            "开始第134次写入\n",
            "开始第135次写入\n",
            "开始第136次写入\n",
            "开始第137次写入\n",
            "开始第138次写入\n",
            "开始第139次写入\n",
            "开始第140次写入\n",
            "运行时间9732.350856304169\n"
          ]
        }
      ]
    }
  ]
}